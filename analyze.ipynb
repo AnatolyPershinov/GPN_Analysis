{
 "cells": [
  {
   "cell_type": "code",
   "execution_count": 91,
   "metadata": {},
   "outputs": [
    {
     "name": "stdout",
     "output_type": "stream",
     "text": [
      "                                   0  \\\n",
      "3651  Томский интегрированный проект   \n",
      "4666  Томский интегрированный проект   \n",
      "4665  Томский интегрированный проект   \n",
      "4664  Томский интегрированный проект   \n",
      "\n",
      "                                                      1  2   3  \n",
      "3651  Томский интегрированный проект\\\\Ежесуточная\\Еж...  0 NaN  \n",
      "4666  Томский интегрированный проект\\\\Ежесуточная\\Еж...  0 NaN  \n",
      "4665  Томский интегрированный проект\\\\Ежесуточная\\Еж...  0 NaN  \n",
      "4664  Томский интегрированный проект\\\\Ежесуточная\\Еж...  0 NaN  \n"
     ]
    }
   ],
   "source": [
    "import pandas as pd\n",
    "\n",
    "def report(group, count=None, asc=False):\n",
    "    df = pd.read_csv(\"results\\\\files_guid.csv\", delimiter=\"\\t\")\n",
    "    df = df.sort_values(by=group,  ascending=asc)\n",
    "    df = df.head(count)\n",
    "    df.to_csv(\"results\\\\{}.csv\".format(group))\n",
    "    \n",
    "report(\"guid_count\", asc=True)\n",
    "# report(\"СМГ Мессояха\", 1000)\n",
    "# report(\"СМГ Н.Порт\", 1000)\n",
    "# report(\"Томский интегрированный проект\", 1000)\n",
    "# report(\"total_count\")\n",
    "\n",
    "def check(l):\n",
    "    l = l.split(\"'\")[1:-1]\n",
    "    for k in l:\n",
    "        if \"giud\" in k or k == \"id\":\n",
    "            return True\n",
    "        \n",
    "    return False\n",
    "\n",
    "data = [k for k in pd.read_csv(\"results\\\\files_guid.csv\", delimiter=\"\\t\").values.tolist()]\n",
    "result = []\n",
    "\n",
    "for k in data:\n",
    "    # print(k)\n",
    "    if k[-2] == 0:\n",
    "        result.append(k)\n",
    "    else:\n",
    "        result.append([k[0], k[1], 1])\n",
    "        \n",
    "        \n",
    "# print(result)\n",
    "res_df = pd.DataFrame(result).sort_values(by=2,  ascending=True)\n",
    "print(res_df.head()[:-1])\n",
    "res_df.to_csv(\"results\\\\guid_count_final.csv\", sep=\"\\t\")"
   ]
  },
  {
   "cell_type": "code",
   "execution_count": 92,
   "metadata": {},
   "outputs": [
    {
     "ename": "SyntaxError",
     "evalue": "invalid syntax (2466723888.py, line 1)",
     "output_type": "error",
     "traceback": [
      "\u001b[1;36m  Cell \u001b[1;32mIn [92], line 1\u001b[1;36m\u001b[0m\n\u001b[1;33m    :\u001b[0m\n\u001b[1;37m    ^\u001b[0m\n\u001b[1;31mSyntaxError\u001b[0m\u001b[1;31m:\u001b[0m invalid syntax\n"
     ]
    }
   ],
   "source": [
    ":\n",
    "    print(k)"
   ]
  },
  {
   "cell_type": "code",
   "execution_count": null,
   "metadata": {},
   "outputs": [
    {
     "ename": "FileNotFoundError",
     "evalue": "[Errno 2] No such file or directory: 'files.csv'",
     "output_type": "error",
     "traceback": [
      "\u001b[1;31m---------------------------------------------------------------------------\u001b[0m",
      "\u001b[1;31mFileNotFoundError\u001b[0m                         Traceback (most recent call last)",
      "Cell \u001b[1;32mIn [6], line 4\u001b[0m\n\u001b[0;32m      1\u001b[0m \u001b[39mimport\u001b[39;00m \u001b[39mcsv\u001b[39;00m\n\u001b[0;32m      3\u001b[0m files \u001b[39m=\u001b[39m []\n\u001b[1;32m----> 4\u001b[0m \u001b[39mwith\u001b[39;00m \u001b[39mopen\u001b[39;49m(\u001b[39m\"\u001b[39;49m\u001b[39mfiles.csv\u001b[39;49m\u001b[39m\"\u001b[39;49m, \u001b[39m\"\u001b[39;49m\u001b[39mr\u001b[39;49m\u001b[39m\"\u001b[39;49m, encoding\u001b[39m=\u001b[39;49m\u001b[39m\"\u001b[39;49m\u001b[39mUTF-8\u001b[39;49m\u001b[39m\"\u001b[39;49m, newline\u001b[39m=\u001b[39;49m\u001b[39m\"\u001b[39;49m\u001b[39m\"\u001b[39;49m) \u001b[39mas\u001b[39;00m f:\n\u001b[0;32m      5\u001b[0m     files \u001b[39m=\u001b[39m csv\u001b[39m.\u001b[39mreader(f, delimiter\u001b[39m=\u001b[39m\u001b[39m\"\u001b[39m\u001b[39m\\t\u001b[39;00m\u001b[39m\"\u001b[39m, quotechar\u001b[39m=\u001b[39m\u001b[39m'\u001b[39m\u001b[39m|\u001b[39m\u001b[39m'\u001b[39m)\n\u001b[0;32m      6\u001b[0m     files \u001b[39m=\u001b[39m  \u001b[39mlist\u001b[39m(files)\n",
      "\u001b[1;31mFileNotFoundError\u001b[0m: [Errno 2] No such file or directory: 'files.csv'"
     ]
    }
   ],
   "source": [
    "import csv\n",
    "\n",
    "files = []\n",
    "with open(\"files.csv\", \"r\", encoding=\"UTF-8\", newline=\"\") as f:\n",
    "    files = csv.reader(f, delimiter=\"\\t\", quotechar='|')\n",
    "    files =  list(files)\n",
    "\n",
    "test_file = files[1][1]\n",
    "print(test_file)"
   ]
  },
  {
   "cell_type": "code",
   "execution_count": null,
   "metadata": {},
   "outputs": [],
   "source": [
    "\n"
   ]
  },
  {
   "cell_type": "code",
   "execution_count": null,
   "metadata": {},
   "outputs": [],
   "source": []
  }
 ],
 "metadata": {
  "kernelspec": {
   "display_name": "Python 3.9.10 64-bit",
   "language": "python",
   "name": "python3"
  },
  "language_info": {
   "codemirror_mode": {
    "name": "ipython",
    "version": 3
   },
   "file_extension": ".py",
   "mimetype": "text/x-python",
   "name": "python",
   "nbconvert_exporter": "python",
   "pygments_lexer": "ipython3",
   "version": "3.9.10"
  },
  "orig_nbformat": 4,
  "vscode": {
   "interpreter": {
    "hash": "98605c127899acfecac1bb5c8ec13242d2f9e8f15d50adf887fb4b8387f94fbc"
   }
  }
 },
 "nbformat": 4,
 "nbformat_minor": 2
}
