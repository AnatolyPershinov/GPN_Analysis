{
 "cells": [
  {
   "cell_type": "code",
   "execution_count": 1,
   "metadata": {},
   "outputs": [],
   "source": [
    "import pandas as pd\n",
    "import numpy as np\n",
    "import psycopg2\n"
   ]
  },
  {
   "cell_type": "markdown",
   "metadata": {},
   "source": [
    "Connect to Database"
   ]
  },
  {
   "cell_type": "code",
   "execution_count": 2,
   "metadata": {},
   "outputs": [],
   "source": [
    "from configparser import ConfigParser\n",
    "\n",
    "\n",
    "\n",
    "def config(filename=f'database.ini', section='postgres'):\n",
    "    # create a parser\n",
    "    parser = ConfigParser()\n",
    "    # read config file\n",
    "    parser.read(filename)\n",
    "\n",
    "    # get section, default to postgresql\n",
    "    db = {}\n",
    "    if parser.has_section(section):\n",
    "        params = parser.items(section)\n",
    "        for param in params:\n",
    "            db[param[0]] = param[1]\n",
    "    else:\n",
    "        raise Exception('Section {0} not found in the {1} file'.format(section, filename))\n",
    "\n",
    "    return db"
   ]
  },
  {
   "cell_type": "code",
   "execution_count": 3,
   "metadata": {},
   "outputs": [],
   "source": [
    "def connect():\n",
    "    \"\"\" Connect to the PostgreSQL database server \"\"\"\n",
    "    conn = None\n",
    "    try:\n",
    "        # read connection parameters\n",
    "        params = config()\n",
    "\n",
    "        # connect to the PostgreSQL server\n",
    "        print('Connecting to the PostgreSQL database...')\n",
    "        conn = psycopg2.connect(**params)\n",
    "\n",
    "        # create a cursor\n",
    "        cur = conn.cursor()\n",
    "    # execute a statement\n",
    "        print('PostgreSQL database version:')\n",
    "        cur.execute('SELECT version()')\n",
    "\n",
    "        # display the PostgreSQL database server version\n",
    "        db_version = cur.fetchone()\n",
    "        print(db_version)\n",
    "\n",
    "    except (Exception, psycopg2.DatabaseError) as error:\n",
    "        print(error)\n",
    "    finally:\n",
    "        if conn is not None:\n",
    "            return conn"
   ]
  },
  {
   "cell_type": "markdown",
   "metadata": {},
   "source": [
    "get tables names"
   ]
  },
  {
   "cell_type": "code",
   "execution_count": 4,
   "metadata": {},
   "outputs": [
    {
     "name": "stdout",
     "output_type": "stream",
     "text": [
      "Connecting to the PostgreSQL database...\n",
      "PostgreSQL database version:\n",
      "('PostgreSQL 13.3 on x86_64-pc-linux-musl, compiled by gcc (Alpine 10.2.1_pre1) 10.2.1 20201203, 64-bit',)\n",
      "['dic_units', 'dic_resource_names', 'dic_upper_works', 'dic_work_titles', 'json_projects', 'progress_ranges', 'res_progress_ranges', 'json_files', 'json_validation_files', 'json_validation_file_names', 'json_resources', 'json_validation_resources', 'json_works', 'json_validation_works']\n"
     ]
    }
   ],
   "source": [
    "conn = connect()\n",
    "cur = conn.cursor()\n",
    "\n",
    "t_query = \"\"\"SELECT TABLE_NAME\n",
    "                FROM INFORMATION_SCHEMA.TABLES\n",
    "                WHERE TABLE_SCHEMA = 'public'\"\"\"\n",
    "cur.execute(t_query)\n",
    "names = [names[0] for names in cur.fetchall()]\n",
    "print(names)"
   ]
  },
  {
   "cell_type": "markdown",
   "metadata": {},
   "source": [
    "Get Data To Numpy"
   ]
  },
  {
   "cell_type": "code",
   "execution_count": 5,
   "metadata": {},
   "outputs": [],
   "source": [
    "def cut_tails(array, min, max):\n",
    "    array_cut = []\n",
    "    qmax, qmin = np.percentile(array, [max, min])\n",
    "    \n",
    "    interval = qmax - qmin\n",
    "\n",
    "    min_dist = qmin - (1.5 * interval)\n",
    "    max_dist = qmax + (1.5 * interval)\n",
    "    \n",
    "    if min_dist is None or max_dist is None:\n",
    "        return array\n",
    "    for data in array:\n",
    "        if data < max_dist and data > min_dist:\n",
    "            array_cut.append(data)\n",
    "            \n",
    "    return array_cut"
   ]
  },
  {
   "cell_type": "code",
   "execution_count": 6,
   "metadata": {},
   "outputs": [
    {
     "name": "stderr",
     "output_type": "stream",
     "text": [
      "C:\\Users\\Anatoly\\AppData\\Local\\Temp\\ipykernel_15812\\2260430895.py:2: UserWarning: pandas only supports SQLAlchemy connectable (engine/connection) or database string URI or sqlite3 DBAPI2 connection. Other DBAPI2 objects are not tested. Please consider using SQLAlchemy.\n",
      "  source_df = pd.read_sql_query(query, con=conn)\n"
     ]
    },
    {
     "name": "stdout",
     "output_type": "stream",
     "text": [
      "        message\n",
      "0          None\n",
      "1          None\n",
      "2          None\n",
      "3          None\n",
      "4          None\n",
      "...         ...\n",
      "1228585    None\n",
      "1228586    None\n",
      "1228587    None\n",
      "1228588    None\n",
      "1228589    None\n",
      "\n",
      "[1228590 rows x 1 columns]\n"
     ]
    }
   ],
   "source": [
    "query = \"SELECT message from json_validation_resources\"\n",
    "source_df = pd.read_sql_query(query, con=conn)\n",
    "print(source_df)\n"
   ]
  }
 ],
 "metadata": {
  "kernelspec": {
   "display_name": "Python 3.10.7 ('venv': venv)",
   "language": "python",
   "name": "python3"
  },
  "language_info": {
   "codemirror_mode": {
    "name": "ipython",
    "version": 3
   },
   "file_extension": ".py",
   "mimetype": "text/x-python",
   "name": "python",
   "nbconvert_exporter": "python",
   "pygments_lexer": "ipython3",
   "version": "3.10.7"
  },
  "orig_nbformat": 4,
  "vscode": {
   "interpreter": {
    "hash": "0351a199319717c3f1ea004e170f3bbffb5bfb83be46d3d30d511d3ea2bad29c"
   }
  }
 },
 "nbformat": 4,
 "nbformat_minor": 2
}
